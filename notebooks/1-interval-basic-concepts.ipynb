{
 "cells": [
  {
   "cell_type": "markdown",
   "id": "0f704473",
   "metadata": {},
   "source": [
    "# Ephemeral Basics: Intervals\n",
    "\n",
    "Working with intervals in .NET is not always as easy as one would like. In order to solve this the library Ephemeral was created. At the beginning, it was meant to solve problems related to *temporal* intervals. With version 0.2.x it supports now generic intervals. But we are getting ahead of ourselves. Let's start with the basics"
   ]
  },
  {
   "cell_type": "code",
   "execution_count": 1,
   "id": "94a0675e",
   "metadata": {
    "polyglot_notebook": {
     "kernelName": "csharp"
    },
    "vscode": {
     "languageId": "csharp"
    }
   },
   "outputs": [
    {
     "data": {
      "text/html": [
       "\r\n",
       "<div>\r\n",
       "    <div id='dotnet-interactive-this-cell-3545.Microsoft.DotNet.Interactive.Http.HttpPort' style='display: none'>\r\n",
       "        The below script needs to be able to find the current output cell; this is an easy method to get it.\r\n",
       "    </div>\r\n",
       "    <script type='text/javascript'>\r\n",
       "async function probeAddresses(probingAddresses) {\r\n",
       "    function timeout(ms, promise) {\r\n",
       "        return new Promise(function (resolve, reject) {\r\n",
       "            setTimeout(function () {\r\n",
       "                reject(new Error('timeout'))\r\n",
       "            }, ms)\r\n",
       "            promise.then(resolve, reject)\r\n",
       "        })\r\n",
       "    }\r\n",
       "\r\n",
       "    if (Array.isArray(probingAddresses)) {\r\n",
       "        for (let i = 0; i < probingAddresses.length; i++) {\r\n",
       "\r\n",
       "            let rootUrl = probingAddresses[i];\r\n",
       "\r\n",
       "            if (!rootUrl.endsWith('/')) {\r\n",
       "                rootUrl = `${rootUrl}/`;\r\n",
       "            }\r\n",
       "\r\n",
       "            try {\r\n",
       "                let response = await timeout(1000, fetch(`${rootUrl}discovery`, {\r\n",
       "                    method: 'POST',\r\n",
       "                    cache: 'no-cache',\r\n",
       "                    mode: 'cors',\r\n",
       "                    timeout: 1000,\r\n",
       "                    headers: {\r\n",
       "                        'Content-Type': 'text/plain'\r\n",
       "                    },\r\n",
       "                    body: probingAddresses[i]\r\n",
       "                }));\r\n",
       "\r\n",
       "                if (response.status == 200) {\r\n",
       "                    return rootUrl;\r\n",
       "                }\r\n",
       "            }\r\n",
       "            catch (e) { }\r\n",
       "        }\r\n",
       "    }\r\n",
       "}\r\n",
       "\r\n",
       "function loadDotnetInteractiveApi() {\r\n",
       "    probeAddresses([\"http://10.0.0.78:2048/\", \"http://127.0.0.1:2048/\"])\r\n",
       "        .then((root) => {\r\n",
       "        // use probing to find host url and api resources\r\n",
       "        // load interactive helpers and language services\r\n",
       "        let dotnetInteractiveRequire = require.config({\r\n",
       "        context: '3545.Microsoft.DotNet.Interactive.Http.HttpPort',\r\n",
       "                paths:\r\n",
       "            {\r\n",
       "                'dotnet-interactive': `${root}resources`\r\n",
       "                }\r\n",
       "        }) || require;\r\n",
       "\r\n",
       "            window.dotnetInteractiveRequire = dotnetInteractiveRequire;\r\n",
       "\r\n",
       "            window.configureRequireFromExtension = function(extensionName, extensionCacheBuster) {\r\n",
       "                let paths = {};\r\n",
       "                paths[extensionName] = `${root}extensions/${extensionName}/resources/`;\r\n",
       "                \r\n",
       "                let internalRequire = require.config({\r\n",
       "                    context: extensionCacheBuster,\r\n",
       "                    paths: paths,\r\n",
       "                    urlArgs: `cacheBuster=${extensionCacheBuster}`\r\n",
       "                    }) || require;\r\n",
       "\r\n",
       "                return internalRequire\r\n",
       "            };\r\n",
       "        \r\n",
       "            dotnetInteractiveRequire([\r\n",
       "                    'dotnet-interactive/dotnet-interactive'\r\n",
       "                ],\r\n",
       "                function (dotnet) {\r\n",
       "                    dotnet.init(window);\r\n",
       "                },\r\n",
       "                function (error) {\r\n",
       "                    console.log(error);\r\n",
       "                }\r\n",
       "            );\r\n",
       "        })\r\n",
       "        .catch(error => {console.log(error);});\r\n",
       "    }\r\n",
       "\r\n",
       "// ensure `require` is available globally\r\n",
       "if ((typeof(require) !==  typeof(Function)) || (typeof(require.config) !== typeof(Function))) {\r\n",
       "    let require_script = document.createElement('script');\r\n",
       "    require_script.setAttribute('src', 'https://cdnjs.cloudflare.com/ajax/libs/require.js/2.3.6/require.min.js');\r\n",
       "    require_script.setAttribute('type', 'text/javascript');\r\n",
       "    \r\n",
       "    \r\n",
       "    require_script.onload = function() {\r\n",
       "        loadDotnetInteractiveApi();\r\n",
       "    };\r\n",
       "\r\n",
       "    document.getElementsByTagName('head')[0].appendChild(require_script);\r\n",
       "}\r\n",
       "else {\r\n",
       "    loadDotnetInteractiveApi();\r\n",
       "}\r\n",
       "\r\n",
       "    </script>\r\n",
       "</div>"
      ]
     },
     "metadata": {},
     "output_type": "display_data"
    },
    {
     "data": {
      "text/html": [
       "<div><div></div><div></div><div><strong>Installed Packages</strong><ul><li><span>Ephemeral, 0.2.0-beta.5</span></li></ul></div></div>"
      ]
     },
     "metadata": {},
     "output_type": "display_data"
    }
   ],
   "source": [
    "#r \"nuget:Ephemeral, 0.2.0-beta.5\""
   ]
  },
  {
   "cell_type": "markdown",
   "id": "9453db83",
   "metadata": {},
   "source": [
    "## The concept of an interval\n",
    "\n",
    "An \"interval\" is defined as the values between two boundaries. \n",
    "\n",
    "For example, let's say that somebody tells you one specific item in a shop costs between $20 and $25. For the sake of simplicity, assume that both 20 and 25 are valid prices as well. You could represent this in a mathematical notation like this $20 \\leq x \\leq 25$ or alternatively $x \\in [20,25]$. \n",
    "\n",
    "In Ephemeral, the same would be accomplished by creating a *closed* interval."
   ]
  },
  {
   "cell_type": "code",
   "execution_count": 2,
   "id": "90a488d1",
   "metadata": {
    "polyglot_notebook": {
     "kernelName": "csharp"
    },
    "vscode": {
     "languageId": "csharp"
    }
   },
   "outputs": [],
   "source": [
    "// This namespace gives you access to the main classes and methods\n",
    "using Marsop.Ephemeral.Core;"
   ]
  },
  {
   "cell_type": "code",
   "execution_count": 3,
   "id": "3359b38b",
   "metadata": {
    "polyglot_notebook": {
     "kernelName": "csharp"
    },
    "vscode": {
     "languageId": "csharp"
    }
   },
   "outputs": [
    {
     "name": "stdout",
     "output_type": "stream",
     "text": [
      "[20 , 25]\n"
     ]
    }
   ],
   "source": [
    "var myFirstInterval = BasicInterval<double>.CreateClosed(20.0, 25.0);\n",
    "Console.WriteLine(myFirstInterval);"
   ]
  },
  {
   "cell_type": "markdown",
   "id": "199d84a7",
   "metadata": {},
   "source": [
    "## Limitations creating intervals\n",
    "\n",
    "The data type used to define the boundaries of one interval must be comparable. In particular, this is used to check the validity of one interval.\n",
    "\n",
    "One interval (`IBasicInterval<T>`) is considered valid when one of the following conditions is met:\n",
    "\n",
    "- the `Start` is lower than the `End`\n",
    "- if the `Start` and `End` are equal, then both are included in the interval\n",
    "\n",
    "The second case is known as \"degenerate\" interval, and it only includes one single point inside."
   ]
  },
  {
   "cell_type": "markdown",
   "id": "9c1f9aea",
   "metadata": {},
   "source": [
    "# Support for Double Intervals\n",
    "\n",
    "There is also some utility classes defined to work with intervals of doubles to avoid starting with generics."
   ]
  },
  {
   "cell_type": "code",
   "execution_count": 4,
   "id": "cd16c397",
   "metadata": {
    "polyglot_notebook": {
     "kernelName": "csharp"
    },
    "vscode": {
     "languageId": "csharp"
    }
   },
   "outputs": [],
   "source": [
    "// Utility classes for numbers (double, int) are included in the Numerics namespace.\n",
    "using Marsop.Ephemeral.Numerics;"
   ]
  },
  {
   "cell_type": "code",
   "execution_count": 5,
   "id": "9b33db28",
   "metadata": {
    "polyglot_notebook": {
     "kernelName": "csharp"
    },
    "vscode": {
     "languageId": "csharp"
    }
   },
   "outputs": [
    {
     "name": "stdout",
     "output_type": "stream",
     "text": [
      "AbstractMeasuredInterval { Start = 20, End = 25, StartIncluded = True, EndIncluded = True, IsValid = True, Operator = Marsop.Ephemeral.Numerics.DoubleDefaultLengthOperator }\n"
     ]
    }
   ],
   "source": [
    "var mySecondInterval = DoubleInterval.CreateClosed(20.0, 25.0);\n",
    "Console.WriteLine(mySecondInterval);"
   ]
  },
  {
   "cell_type": "markdown",
   "id": "21d0de01",
   "metadata": {},
   "source": [
    "## Open or Closed?\n",
    "\n",
    "You may have realized that we are using `CreateClosed()` as our factory method. This is due to the fact that both boundaries are included. If instead neither of them were included, we would write $x \\in (20,25)$ or $20 \\lt x \\lt 25$. In **Ephemeral** this is accomplished using `CreateOpen()`"
   ]
  },
  {
   "cell_type": "code",
   "execution_count": 6,
   "id": "e2d57807",
   "metadata": {
    "polyglot_notebook": {
     "kernelName": "csharp"
    },
    "vscode": {
     "languageId": "csharp"
    }
   },
   "outputs": [
    {
     "name": "stdout",
     "output_type": "stream",
     "text": [
      "AbstractMeasuredInterval { Start = 20, End = 25, StartIncluded = False, EndIncluded = False, IsValid = True, Operator = Marsop.Ephemeral.Numerics.DoubleDefaultLengthOperator }\n"
     ]
    }
   ],
   "source": [
    "var myOpenInterval = DoubleInterval.CreateOpen(20.0, 25.0);\n",
    "Console.WriteLine(myOpenInterval);"
   ]
  },
  {
   "cell_type": "markdown",
   "id": "5a304eda",
   "metadata": {},
   "source": [
    "As you could have imagined, there are also semi-open (also known as half-open) intervals. In this cases, we can use the constructor as follows."
   ]
  },
  {
   "cell_type": "code",
   "execution_count": 7,
   "id": "7f5f15f8",
   "metadata": {
    "polyglot_notebook": {
     "kernelName": "csharp"
    },
    "vscode": {
     "languageId": "csharp"
    }
   },
   "outputs": [
    {
     "name": "stdout",
     "output_type": "stream",
     "text": [
      "Open start, closed end: AbstractMeasuredInterval { Start = 20, End = 25, StartIncluded = False, EndIncluded = True, IsValid = True, Operator = Marsop.Ephemeral.Numerics.DoubleDefaultLengthOperator }\n",
      "Closed start, open end: AbstractMeasuredInterval { Start = 20, End = 25, StartIncluded = True, EndIncluded = False, IsValid = True, Operator = Marsop.Ephemeral.Numerics.DoubleDefaultLengthOperator }\n"
     ]
    }
   ],
   "source": [
    "var myOpenClosedInterval = new DoubleInterval(20, 25, false, true);\n",
    "var myClosedOpenInterval = new DoubleInterval(20, 25, true, false);\n",
    "\n",
    "Console.WriteLine($\"Open start, closed end: {myOpenClosedInterval}\");\n",
    "Console.WriteLine($\"Closed start, open end: {myClosedOpenInterval}\");"
   ]
  },
  {
   "cell_type": "markdown",
   "id": "08a6614d",
   "metadata": {},
   "source": [
    "# Inclusion\n",
    "\n",
    "One of the first operations that you would use an interval for is to test inclusion. For example checking if one point is included in the interval."
   ]
  },
  {
   "cell_type": "code",
   "execution_count": 8,
   "id": "660ba364",
   "metadata": {
    "polyglot_notebook": {
     "kernelName": "csharp"
    },
    "vscode": {
     "languageId": "csharp"
    }
   },
   "outputs": [
    {
     "name": "stdout",
     "output_type": "stream",
     "text": [
      "Is 22 in [20 , 25]? True\n",
      "Is 30 in [20 , 25]? False\n"
     ]
    }
   ],
   "source": [
    "var realPrice = 22.0;\n",
    "Console.WriteLine($\"Is {realPrice} in {myFirstInterval}? {myFirstInterval.Covers(realPrice)}\");\n",
    "\n",
    "var wayTooExpensivePrice = 30.0;\n",
    "Console.WriteLine($\"Is {wayTooExpensivePrice} in {myFirstInterval}? {myFirstInterval.Covers(wayTooExpensivePrice)}\");"
   ]
  },
  {
   "cell_type": "markdown",
   "id": "ee06caf2",
   "metadata": {
    "polyglot_notebook": {
     "kernelName": "csharp"
    }
   },
   "source": [
    "When checking for coverage, the boundaries do matter, so take this into account."
   ]
  },
  {
   "cell_type": "code",
   "execution_count": 9,
   "id": "d31e0edd",
   "metadata": {
    "polyglot_notebook": {
     "kernelName": "csharp"
    },
    "vscode": {
     "languageId": "csharp"
    }
   },
   "outputs": [
    {
     "name": "stdout",
     "output_type": "stream",
     "text": [
      "Is 20 in [20 , 25]? True\n",
      "Is 20 in AbstractMeasuredInterval { Start = 20, End = 25, StartIncluded = False, EndIncluded = False, IsValid = True, Operator = Marsop.Ephemeral.Numerics.DoubleDefaultLengthOperator }? False\n"
     ]
    }
   ],
   "source": [
    "var point = 20.0;\n",
    "Console.WriteLine($\"Is {point} in {myFirstInterval}? {myFirstInterval.Covers(point)}\");\n",
    "Console.WriteLine($\"Is {point} in {myOpenInterval}? {myOpenInterval.Covers(point)}\");"
   ]
  },
  {
   "cell_type": "markdown",
   "id": "e9ecab7a",
   "metadata": {
    "polyglot_notebook": {
     "kernelName": "csharp"
    }
   },
   "source": [
    "Check if one interval is inside another one is equally simple."
   ]
  },
  {
   "cell_type": "code",
   "execution_count": 10,
   "id": "ab3e4973",
   "metadata": {
    "polyglot_notebook": {
     "kernelName": "csharp"
    },
    "vscode": {
     "languageId": "csharp"
    }
   },
   "outputs": [
    {
     "name": "stdout",
     "output_type": "stream",
     "text": [
      "Is AbstractMeasuredInterval { Start = 20, End = 25, StartIncluded = True, EndIncluded = True, IsValid = True, Operator = Marsop.Ephemeral.Numerics.DoubleDefaultLengthOperator } in AbstractMeasuredInterval { Start = 0, End = 100, StartIncluded = True, EndIncluded = True, IsValid = True, Operator = Marsop.Ephemeral.Numerics.DoubleDefaultLengthOperator }? True\n",
      "Is AbstractMeasuredInterval { Start = 20, End = 25, StartIncluded = True, EndIncluded = True, IsValid = True, Operator = Marsop.Ephemeral.Numerics.DoubleDefaultLengthOperator } in AbstractMeasuredInterval { Start = -10, End = -5, StartIncluded = True, EndIncluded = True, IsValid = True, Operator = Marsop.Ephemeral.Numerics.DoubleDefaultLengthOperator }? False\n"
     ]
    }
   ],
   "source": [
    "var myBigInterval = DoubleInterval.CreateClosed(0.0, 100.0);\n",
    "var mySmallInterval = DoubleInterval.CreateClosed(20.0, 25.0);\n",
    "Console.WriteLine($\"Is {mySmallInterval} in {myBigInterval}? {myBigInterval.Covers(mySmallInterval)}\");\n",
    "\n",
    "var negativeInterval = DoubleInterval.CreateClosed(-10.0, -5.0);\n",
    "Console.WriteLine($\"Is {mySmallInterval} in {negativeInterval}? {negativeInterval.Covers(mySmallInterval)}\");"
   ]
  },
  {
   "cell_type": "markdown",
   "id": "a3b544dd",
   "metadata": {
    "polyglot_notebook": {
     "kernelName": "csharp"
    }
   },
   "source": [
    "Coverage has to be complete, that means that if at least one point in one interval is not covered, then the method returns false."
   ]
  },
  {
   "cell_type": "code",
   "execution_count": 11,
   "id": "f259672f",
   "metadata": {
    "polyglot_notebook": {
     "kernelName": "csharp"
    },
    "vscode": {
     "languageId": "csharp"
    }
   },
   "outputs": [
    {
     "name": "stdout",
     "output_type": "stream",
     "text": [
      "Is AbstractMeasuredInterval { Start = 20, End = 25, StartIncluded = False, EndIncluded = False, IsValid = True, Operator = Marsop.Ephemeral.Numerics.DoubleDefaultLengthOperator } in [20 , 25]? True\n",
      "Is [20 , 25] in AbstractMeasuredInterval { Start = 20, End = 25, StartIncluded = False, EndIncluded = False, IsValid = True, Operator = Marsop.Ephemeral.Numerics.DoubleDefaultLengthOperator }? False\n"
     ]
    }
   ],
   "source": [
    "Console.WriteLine($\"Is {myOpenInterval} in {myFirstInterval}? {myFirstInterval.Covers(myOpenInterval)}\");\n",
    "Console.WriteLine($\"Is {myFirstInterval} in {myOpenInterval}? {myOpenInterval.Covers(myFirstInterval)}\");"
   ]
  }
 ],
 "metadata": {
  "kernelspec": {
   "display_name": ".NET (C#)",
   "language": "C#",
   "name": ".net-csharp"
  },
  "language_info": {
   "file_extension": ".cs",
   "mimetype": "text/x-csharp",
   "name": "C#",
   "pygments_lexer": "csharp",
   "version": "13.0"
  },
  "polyglot_notebook": {
   "kernelInfo": {
    "defaultKernelName": "csharp",
    "items": [
     {
      "aliases": [],
      "name": "csharp"
     }
    ]
   }
  }
 },
 "nbformat": 4,
 "nbformat_minor": 5
}
