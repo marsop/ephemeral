{
 "cells": [
  {
   "cell_type": "markdown",
   "id": "db04fe04",
   "metadata": {},
   "source": [
    "# Ephemeral from first principles (Chapter 2)\n",
    "\n",
    "In this chapter we will take a look at measures. As usual, make sure you have access to the base library to follow along."
   ]
  },
  {
   "cell_type": "code",
   "execution_count": null,
   "id": "0882b62d",
   "metadata": {
    "polyglot_notebook": {
     "kernelName": "csharp"
    },
    "vscode": {
     "languageId": "polyglot-notebook"
    }
   },
   "outputs": [],
   "source": [
    "#r \"nuget:Ephemeral, 0.2.0-beta.5\""
   ]
  },
  {
   "cell_type": "markdown",
   "id": "522c2d58",
   "metadata": {},
   "source": [
    "## Measurements\n",
    "\n",
    "Sometimes we need a way to measure how \"big\" an interval is. This is trivial for us to do with intervals based on numbers. For example, for $[2.0, 5.0]$ we know that we can calculate the length as $5.0 - 2.0 = 3.0$"
   ]
  },
  {
   "cell_type": "code",
   "execution_count": null,
   "id": "c8c26604",
   "metadata": {
    "polyglot_notebook": {
     "kernelName": "csharp"
    },
    "vscode": {
     "languageId": "polyglot-notebook"
    }
   },
   "outputs": [],
   "source": [
    "using Marsop.Ephemeral.Numerics;\n",
    "using Marsop.Ephemeral.Core;"
   ]
  },
  {
   "cell_type": "code",
   "execution_count": null,
   "id": "0cf3c073",
   "metadata": {
    "polyglot_notebook": {
     "kernelName": "csharp"
    },
    "vscode": {
     "languageId": "polyglot-notebook"
    }
   },
   "outputs": [
    {
     "name": "stdout",
     "output_type": "stream",
     "text": [
      "The measure of DoubleInterval { Start = 2, End = 5, StartIncluded = True, EndIncluded = True, IsValid = True, Operator = Marsop.Ephemeral.Numerics.DoubleDefaultLengthOperator } is equal to 3\n"
     ]
    }
   ],
   "source": [
    "var closedInterval = DoubleInterval.Closed(2.0, 5.0);\n",
    "\n",
    "Console.WriteLine($\"The measure of {closedInterval} is equal to {closedInterval.DefaultMeasure()}\");"
   ]
  },
  {
   "cell_type": "markdown",
   "id": "15109cbf",
   "metadata": {},
   "source": [
    "Notice how we are using the \"default\" measure. This is because how we measure our intervals can change depending on what we are measuring. For example, we may want to define our own measure that returns a different data type. We will come back to this possibility later in the series. For the moment, it is enough to know that the intervals can be measured either with the \"default\" (if the interval is well-known) or with a \"custom\" measurer."
   ]
  },
  {
   "cell_type": "markdown",
   "id": "b8b0f2e1",
   "metadata": {},
   "source": [
    "## \n",
    "\n"
   ]
  },
  {
   "cell_type": "markdown",
   "id": "c73f73a4",
   "metadata": {},
   "source": [
    "## Measuring degenerate intervals\n",
    "\n",
    "If an interval only includes one single point it is called \"degenerate interval\" or \"point interval\". In this case the length is 0.0"
   ]
  },
  {
   "cell_type": "code",
   "execution_count": null,
   "metadata": {
    "polyglot_notebook": {
     "kernelName": "csharp"
    },
    "vscode": {
     "languageId": "polyglot-notebook"
    }
   },
   "outputs": [
    {
     "ename": "Error",
     "evalue": "(3,89): error CS1061: 'BasicInterval<double>' does not contain a definition for 'Measure' and no accessible extension method 'Measure' accepting a first argument of type 'BasicInterval<double>' could be found (are you missing a using directive or an assembly reference?)",
     "output_type": "error",
     "traceback": [
      "(3,89): error CS1061: 'BasicInterval<double>' does not contain a definition for 'Measure' and no accessible extension method 'Measure' accepting a first argument of type 'BasicInterval<double>' could be found (are you missing a using directive or an assembly reference?)"
     ]
    }
   ],
   "source": [
    "var degenerateInterval = DoubleInterval.CreatePoint(42.0);\n",
    "\n",
    "Console.WriteLine($\"The measure of {degenerateInterval} is equal to {degenerateInterval.DefaultMeasure()}\");"
   ]
  }
 ],
 "metadata": {
  "kernelspec": {
   "display_name": ".NET (C#)",
   "language": "C#",
   "name": ".net-csharp"
  },
  "language_info": {
   "name": "python"
  },
  "polyglot_notebook": {
   "kernelInfo": {
    "defaultKernelName": "csharp",
    "items": [
     {
      "aliases": [],
      "name": "csharp"
     }
    ]
   }
  }
 },
 "nbformat": 4,
 "nbformat_minor": 5
}
