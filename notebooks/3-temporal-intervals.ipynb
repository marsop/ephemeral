{
 "cells": [
  {
   "cell_type": "markdown",
   "id": "c20473e3",
   "metadata": {},
   "source": [
    "# Temporal Intervals\n",
    "\n",
    "**Ephemeral** provides an interval type to define periods of time. In fact, this was the only kind of interval supported in version `0.1.x`. From version `0.2.0` onwards, this interval is now known as `DateTimeOffsetInterval` and includes all the usual stuff that you would expect like measures."
   ]
  },
  {
   "cell_type": "code",
   "execution_count": null,
   "id": "e6966483",
   "metadata": {
    "polyglot_notebook": {
     "kernelName": "csharp"
    },
    "vscode": {
     "languageId": "polyglot-notebook"
    }
   },
   "outputs": [
    {
     "data": {
      "text/html": [
       "<div><div></div><div></div><div><strong>Installed Packages</strong><ul><li><span>Ephemeral, 0.2.0-beta.3</span></li></ul></div></div>"
      ]
     },
     "metadata": {},
     "output_type": "display_data"
    }
   ],
   "source": [
    "#r \"nuget:Ephemeral, 0.2.0-beta.4\""
   ]
  },
  {
   "cell_type": "code",
   "execution_count": 1,
   "id": "ff093a30",
   "metadata": {
    "polyglot_notebook": {
     "kernelName": "csharp"
    },
    "vscode": {
     "languageId": "polyglot-notebook"
    }
   },
   "outputs": [
    {
     "ename": "Error",
     "evalue": "(1,7): error CS0246: The type or namespace name 'Marsop' could not be found (are you missing a using directive or an assembly reference?)\n(2,7): error CS0246: The type or namespace name 'Marsop' could not be found (are you missing a using directive or an assembly reference?)\n(5,19): error CS0103: The name 'DateTimeOffsetInterval' does not exist in the current context",
     "output_type": "error",
     "traceback": [
      "(1,7): error CS0246: The type or namespace name 'Marsop' could not be found (are you missing a using directive or an assembly reference?)\n",
      "(2,7): error CS0246: The type or namespace name 'Marsop' could not be found (are you missing a using directive or an assembly reference?)\n",
      "(5,19): error CS0103: The name 'DateTimeOffsetInterval' does not exist in the current context"
     ]
    }
   ],
   "source": [
    "using Marsop.Ephemeral.Core;\n",
    "using Marsop.Ephemeral.Temporal;\n",
    "\n",
    "var now = DateTimeOffset.UtcNow;\n",
    "var last24Hours = DateTimeOffsetInterval.CreateClosed(now.AddHours(-24), now);"
   ]
  }
 ],
 "metadata": {
  "kernelspec": {
   "display_name": ".NET (C#)",
   "language": "C#",
   "name": ".net-csharp"
  },
  "language_info": {
   "name": "python"
  },
  "polyglot_notebook": {
   "kernelInfo": {
    "defaultKernelName": "csharp",
    "items": [
     {
      "aliases": [],
      "name": "csharp"
     }
    ]
   }
  }
 },
 "nbformat": 4,
 "nbformat_minor": 5
}
