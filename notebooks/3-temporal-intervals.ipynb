{
 "cells": [
  {
   "cell_type": "markdown",
   "id": "c20473e3",
   "metadata": {},
   "source": [
    "# Temporal Intervals\n",
    "\n",
    "**Ephemeral** provides an interval type to define periods of time. In fact, this was the only kind of interval supported in version `0.1.x`. From version `0.2.0` onwards, this interval is now known as `DateTimeOffsetInterval` and includes all the usual stuff that you would expect like measures."
   ]
  },
  {
   "cell_type": "code",
   "execution_count": 2,
   "id": "e6966483",
   "metadata": {
    "polyglot_notebook": {
     "kernelName": "csharp"
    },
    "vscode": {
     "languageId": "polyglot-notebook"
    }
   },
   "outputs": [
    {
     "data": {
      "text/html": [
       "<div><div></div><div></div><div><strong>Installed Packages</strong><ul><li><span>Ephemeral, 0.2.0-beta.3</span></li></ul></div></div>"
      ]
     },
     "metadata": {},
     "output_type": "display_data"
    }
   ],
   "source": [
    "#r \"nuget:Ephemeral, 0.2.0-beta.3\""
   ]
  },
  {
   "cell_type": "code",
   "execution_count": null,
   "id": "ff093a30",
   "metadata": {
    "polyglot_notebook": {
     "kernelName": "csharp"
    },
    "vscode": {
     "languageId": "polyglot-notebook"
    }
   },
   "outputs": [
    {
     "ename": "Error",
     "evalue": "Marsop.Ephemeral.Core.Exceptions.InvalidLengthException: [5/30/2025 9:20:10 AM +00:00 , 5/29/2025 9:20:10 AM +00:00]\n   at Marsop.Ephemeral.Core.Implementation.BasicInterval`1..ctor(TBoundary start, TBoundary end, Boolean startIncluded, Boolean endIncluded)\n   at Marsop.Ephemeral.Core.Implementation.AbstractMeasuredInterval`2..ctor(TBoundary start, TBoundary end, Boolean startIncluded, Boolean endIncluded)\n   at Marsop.Ephemeral.Core.Implementation.FullInterval`2..ctor(TBoundary start, TBoundary end, Boolean startIncluded, Boolean endIncluded)\n   at Marsop.Ephemeral.Temporal.DateTimeOffsetInterval..ctor(DateTimeOffset start, DateTimeOffset end, Boolean startIncluded, Boolean endIncluded)\n   at Submission#1.<<Initialize>>d__0.MoveNext()\n--- End of stack trace from previous location ---\n   at Microsoft.CodeAnalysis.Scripting.ScriptExecutionState.RunSubmissionsAsync[TResult](ImmutableArray`1 precedingExecutors, Func`2 currentExecutor, StrongBox`1 exceptionHolderOpt, Func`2 catchExceptionOpt, CancellationToken cancellationToken)",
     "output_type": "error",
     "traceback": [
      "Marsop.Ephemeral.Core.Exceptions.InvalidLengthException: [5/30/2025 9:20:10 AM +00:00 , 5/29/2025 9:20:10 AM +00:00]\n",
      "   at Marsop.Ephemeral.Core.Implementation.BasicInterval`1..ctor(TBoundary start, TBoundary end, Boolean startIncluded, Boolean endIncluded)\n",
      "   at Marsop.Ephemeral.Core.Implementation.AbstractMeasuredInterval`2..ctor(TBoundary start, TBoundary end, Boolean startIncluded, Boolean endIncluded)\n",
      "   at Marsop.Ephemeral.Core.Implementation.FullInterval`2..ctor(TBoundary start, TBoundary end, Boolean startIncluded, Boolean endIncluded)\n",
      "   at Marsop.Ephemeral.Temporal.DateTimeOffsetInterval..ctor(DateTimeOffset start, DateTimeOffset end, Boolean startIncluded, Boolean endIncluded)\n",
      "   at Submission#1.<<Initialize>>d__0.MoveNext()\n",
      "--- End of stack trace from previous location ---\n",
      "   at Microsoft.CodeAnalysis.Scripting.ScriptExecutionState.RunSubmissionsAsync[TResult](ImmutableArray`1 precedingExecutors, Func`2 currentExecutor, StrongBox`1 exceptionHolderOpt, Func`2 catchExceptionOpt, CancellationToken cancellationToken)"
     ]
    }
   ],
   "source": [
    "using Marsop.Ephemeral.Core;\n",
    "using Marsop.Ephemeral.Temporal;\n",
    "\n",
    "var now = DateTimeOffset.UtcNow;\n",
    "var last24Hours = new DateTimeOffsetInterval(now.AddHours(-24), now, true, true);"
   ]
  }
 ],
 "metadata": {
  "kernelspec": {
   "display_name": ".NET (C#)",
   "language": "C#",
   "name": ".net-csharp"
  },
  "language_info": {
   "name": "python"
  },
  "polyglot_notebook": {
   "kernelInfo": {
    "defaultKernelName": "csharp",
    "items": [
     {
      "aliases": [],
      "name": "csharp"
     }
    ]
   }
  }
 },
 "nbformat": 4,
 "nbformat_minor": 5
}
