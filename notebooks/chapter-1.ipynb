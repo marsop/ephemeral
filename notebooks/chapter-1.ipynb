{
 "cells": [
  {
   "cell_type": "markdown",
   "id": "0f704473",
   "metadata": {},
   "source": [
    "# Ephemeral from first principles (Chapter 1)\n",
    "\n",
    "Working with intervals in .NET is not always as easy as one would like. In order to solve this the library Ephemeral was created. At the beginning, it was meant to solve problems related to *temporal* intervals. With version 0.2.x it supports now generic intervals. But we are getting ahead of ourselves. Let's start with the basics"
   ]
  },
  {
   "cell_type": "code",
   "execution_count": 1,
   "id": "94a0675e",
   "metadata": {
    "vscode": {
     "languageId": "polyglot-notebook"
    }
   },
   "outputs": [
    {
     "data": {
      "text/html": [
       "<div><div></div><div></div><div><strong>Installed Packages</strong><ul><li><span>Ephemeral, 0.2.0-beta.1</span></li></ul></div></div>"
      ]
     },
     "metadata": {},
     "output_type": "display_data"
    }
   ],
   "source": [
    "#r \"nuget:Ephemeral, 0.2.0-beta.1\""
   ]
  },
  {
   "cell_type": "markdown",
   "id": "9453db83",
   "metadata": {},
   "source": [
    "## The concept of an interval\n",
    "\n",
    "An \"interval\" is defined as the values between two boundaries. \n",
    "\n",
    "For example, let's say that somebody tells you one specific item in a shop costs between $20 and $25. For the sake of simplicity, assume that both 20 and 25 are valid prices as well. You could represent this in a mathematical notation like this $20 \\leq x \\leq 25$ or alternatively $x \\in \\[20,25\\]$. \n",
    "\n",
    "In Ephemeral, the same would be accomplished by creating a *closed* interval."
   ]
  },
  {
   "cell_type": "code",
   "execution_count": null,
   "id": "90a488d1",
   "metadata": {
    "vscode": {
     "languageId": "polyglot-notebook"
    }
   },
   "outputs": [],
   "source": [
    "// This namespace gives you access to the main classes and methods\n",
    "using Marsop.Ephemeral.Core.Implementation;"
   ]
  },
  {
   "cell_type": "code",
   "execution_count": 9,
   "id": "3359b38b",
   "metadata": {
    "vscode": {
     "languageId": "polyglot-notebook"
    }
   },
   "outputs": [
    {
     "name": "stdout",
     "output_type": "stream",
     "text": [
      "[20 => 25]\n"
     ]
    }
   ],
   "source": [
    "var myFirstInterval = BasicInterval<double>.CreateClosed(20.0, 25.0);\n",
    "Console.WriteLine(myFirstInterval);"
   ]
  },
  {
   "cell_type": "markdown",
   "id": "9c1f9aea",
   "metadata": {},
   "source": [
    "There is also some utility classes defined to work with intervals of doubles to avoid starting with generics."
   ]
  },
  {
   "cell_type": "code",
   "execution_count": null,
   "id": "cd16c397",
   "metadata": {
    "vscode": {
     "languageId": "polyglot-notebook"
    }
   },
   "outputs": [],
   "source": [
    "// Utility classes for numbers (double, int) are included in the Numerics namespace.\n",
    "using Marsop.Ephemeral.Numerics;"
   ]
  },
  {
   "cell_type": "code",
   "execution_count": null,
   "id": "9b33db28",
   "metadata": {
    "vscode": {
     "languageId": "polyglot-notebook"
    }
   },
   "outputs": [
    {
     "name": "stdout",
     "output_type": "stream",
     "text": [
      "[20 => 25]\n"
     ]
    }
   ],
   "source": [
    "\n",
    "\n",
    "var mySecondInterval = DoubleInterval.CreateClosed(20.0, 25.0);\n",
    "Console.WriteLine(mySecondInterval);"
   ]
  },
  {
   "cell_type": "markdown",
   "id": "21d0de01",
   "metadata": {},
   "source": [
    "## Open or Closed?\n",
    "\n",
    "You may have realized that we are using `CreateClosed()` as our factory method. This is due to the fact that both boundaries are included. If instead neither of them were included, we would write $x \\in (20,25)$ or $20 \\lt x \\lt 25$. In **Ephemeral** this is accomplished using `CreateOpen()`"
   ]
  },
  {
   "cell_type": "code",
   "execution_count": 11,
   "id": "e2d57807",
   "metadata": {
    "vscode": {
     "languageId": "polyglot-notebook"
    }
   },
   "outputs": [
    {
     "name": "stdout",
     "output_type": "stream",
     "text": [
      "(20 => 25)\n"
     ]
    }
   ],
   "source": [
    "var myOpenInterval = DoubleInterval.CreateOpen(20.0, 25.0);\n",
    "Console.WriteLine(myOpenInterval);"
   ]
  },
  {
   "cell_type": "markdown",
   "id": "5a304eda",
   "metadata": {},
   "source": [
    "As you could have imagined, there are also semi-open (also known as half-open) intervals. In this cases, we can use the constructor as follows."
   ]
  },
  {
   "cell_type": "code",
   "execution_count": 12,
   "id": "7f5f15f8",
   "metadata": {
    "vscode": {
     "languageId": "polyglot-notebook"
    }
   },
   "outputs": [
    {
     "name": "stdout",
     "output_type": "stream",
     "text": [
      "Open start, closed end: DoubleInterval { Start = 20, End = 25, StartIncluded = False, EndIncluded = True, IsValid = True, LengthOperator = Marsop.Ephemeral.Numerics.DoubleDefaultLengthOperator }\n",
      "Closed start, open end: DoubleInterval { Start = 20, End = 25, StartIncluded = True, EndIncluded = False, IsValid = True, LengthOperator = Marsop.Ephemeral.Numerics.DoubleDefaultLengthOperator }\n"
     ]
    }
   ],
   "source": [
    "var myOpenClosedInterval = new DoubleInterval(20, 25, false, true);\n",
    "var myClosedOpenInterval = new DoubleInterval(20, 25, true, false);\n",
    "\n",
    "Console.WriteLine($\"Open start, closed end: {myOpenClosedInterval}\");\n",
    "Console.WriteLine($\"Closed start, open end: {myClosedOpenInterval}\");"
   ]
  },
  {
   "cell_type": "markdown",
   "id": "08a6614d",
   "metadata": {},
   "source": [
    "# Inclusion\n",
    "\n",
    "One of the first operations that you would use an interval for is to test inclusion. For example checking if one point is included in the interval."
   ]
  },
  {
   "cell_type": "code",
   "execution_count": 18,
   "id": "957e9a79",
   "metadata": {
    "vscode": {
     "languageId": "polyglot-notebook"
    }
   },
   "outputs": [],
   "source": [
    "// the method Covers() is defined as an extension method\n",
    "using Marsop.Ephemeral.Core.Extensions;"
   ]
  },
  {
   "cell_type": "code",
   "execution_count": 19,
   "id": "660ba364",
   "metadata": {
    "vscode": {
     "languageId": "polyglot-notebook"
    }
   },
   "outputs": [
    {
     "name": "stdout",
     "output_type": "stream",
     "text": [
      "Is 22 in [20 => 25]? True\n",
      "Is 30 in [20 => 25]? False\n"
     ]
    }
   ],
   "source": [
    "var realPrice = 22.0;\n",
    "Console.WriteLine($\"Is {realPrice} in {myFirstInterval}? {myFirstInterval.Covers(realPrice)}\");\n",
    "\n",
    "var wayTooExpensivePrice = 30.0;\n",
    "Console.WriteLine($\"Is {wayTooExpensivePrice} in {myFirstInterval}? {myFirstInterval.Covers(wayTooExpensivePrice)}\");"
   ]
  },
  {
   "cell_type": "markdown",
   "id": "ee06caf2",
   "metadata": {},
   "source": [
    "When checking for coverage, the boundaries do matter, so take this into account."
   ]
  },
  {
   "cell_type": "code",
   "execution_count": 20,
   "id": "d31e0edd",
   "metadata": {
    "vscode": {
     "languageId": "polyglot-notebook"
    }
   },
   "outputs": [
    {
     "name": "stdout",
     "output_type": "stream",
     "text": [
      "Is 20 in [20 => 25]? True\n",
      "Is 20 in (20 => 25)? False\n"
     ]
    }
   ],
   "source": [
    "var point = 20.0;\n",
    "Console.WriteLine($\"Is {point} in {myFirstInterval}? {myFirstInterval.Covers(point)}\");\n",
    "Console.WriteLine($\"Is {point} in {myOpenInterval}? {myOpenInterval.Covers(point)}\");"
   ]
  },
  {
   "cell_type": "markdown",
   "id": "e9ecab7a",
   "metadata": {},
   "source": [
    "Check if one interval is inside another one is equally simple."
   ]
  },
  {
   "cell_type": "code",
   "execution_count": 22,
   "id": "ab3e4973",
   "metadata": {
    "vscode": {
     "languageId": "polyglot-notebook"
    }
   },
   "outputs": [
    {
     "name": "stdout",
     "output_type": "stream",
     "text": [
      "Is [20 => 25] in [0 => 100]? True\n",
      "Is [20 => 25] in [-10 => -5]? False\n"
     ]
    }
   ],
   "source": [
    "var myBigInterval = DoubleInterval.CreateClosed(0.0, 100.0);\n",
    "var mySmallInterval = DoubleInterval.CreateClosed(20.0, 25.0);\n",
    "Console.WriteLine($\"Is {mySmallInterval} in {myBigInterval}? {myBigInterval.Covers(mySmallInterval)}\");\n",
    "\n",
    "var negativeInterval = DoubleInterval.CreateClosed(-10.0, -5.0);\n",
    "Console.WriteLine($\"Is {mySmallInterval} in {negativeInterval}? {negativeInterval.Covers(mySmallInterval)}\");"
   ]
  },
  {
   "cell_type": "markdown",
   "id": "a3b544dd",
   "metadata": {},
   "source": [
    "Coverage has to be complete, that means that if at least one point in one interval is not covered, then the method returns false."
   ]
  },
  {
   "cell_type": "code",
   "execution_count": 23,
   "id": "f259672f",
   "metadata": {
    "vscode": {
     "languageId": "polyglot-notebook"
    }
   },
   "outputs": [
    {
     "name": "stdout",
     "output_type": "stream",
     "text": [
      "Is (20 => 25) in [20 => 25]? True\n",
      "Is [20 => 25] in (20 => 25)? False\n"
     ]
    }
   ],
   "source": [
    "Console.WriteLine($\"Is {myOpenInterval} in {myFirstInterval}? {myFirstInterval.Covers(myOpenInterval)}\");\n",
    "Console.WriteLine($\"Is {myFirstInterval} in {myOpenInterval}? {myOpenInterval.Covers(myFirstInterval)}\");"
   ]
  }
 ],
 "metadata": {
  "kernelspec": {
   "display_name": ".NET (C#)",
   "language": "C#",
   "name": ".net-csharp"
  },
  "language_info": {
   "name": "python"
  },
  "polyglot_notebook": {
   "kernelInfo": {
    "defaultKernelName": "csharp",
    "items": [
     {
      "aliases": [],
      "name": "csharp"
     }
    ]
   }
  }
 },
 "nbformat": 4,
 "nbformat_minor": 5
}
