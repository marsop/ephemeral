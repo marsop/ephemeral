{
 "cells": [
  {
   "cell_type": "markdown",
   "id": "db04fe04",
   "metadata": {},
   "source": [
    "# Ephemeral from first principles (Chapter 2)\n",
    "\n",
    "In this chapter we will take a look at measures. As usual, make sure you have access to the base library to follow along."
   ]
  },
  {
   "cell_type": "code",
   "execution_count": null,
   "id": "0882b62d",
   "metadata": {
    "vscode": {
     "languageId": "plaintext"
    }
   },
   "outputs": [],
   "source": [
    "#r \"nuget:Ephemeral, 0.2.0-beta.1\""
   ]
  },
  {
   "cell_type": "markdown",
   "id": "522c2d58",
   "metadata": {},
   "source": [
    "## "
   ]
  }
 ],
 "metadata": {
  "language_info": {
   "name": "python"
  }
 },
 "nbformat": 4,
 "nbformat_minor": 5
}
